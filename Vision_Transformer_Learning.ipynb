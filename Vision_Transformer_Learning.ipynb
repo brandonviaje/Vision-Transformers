{
  "nbformat": 4,
  "nbformat_minor": 0,
  "metadata": {
    "colab": {
      "provenance": []
    },
    "kernelspec": {
      "name": "python3",
      "display_name": "Python 3"
    },
    "language_info": {
      "name": "python"
    }
  },
  "cells": [
    {
      "cell_type": "markdown",
      "source": [
        "# **Learning the Vision Transformer**\n",
        "\n",
        "**By: Brandon Viaje**\n",
        "\n",
        "## **Project Overview**\n",
        "\n",
        "The purpose of this project is to reinforce my understanding of the Vision Transformer. While I already have a solid foundation in convolutional neural networks (CNNs), transformers for natural language processing (NLP), and other deep learning techniques, exploring ViTs helps me bridge these concepts and see how transformer architectures can be effectively applied to computer vision tasks.\n",
        "\n",
        "This project is a combination of following tutorials, reading research papers, and experimenting hands-on to deepen my grasp of how Vision Transformers work and their practical applications.\n",
        "\n",
        "## **What is a Vision Transformer?**\n",
        "\n",
        "The vision transformer is a tool used in computer vision that has aided in generative modelling, classification and image detection. ViT's are used in different fields such as the medical and generatiive AI field. What makes ViTs special is that it follows the transformer architecture like you would see in NLP. ViTs use this architecture in a similar way but with images. ViT uses multi headed attention layers which provide a better understanding for long-term and short-term patterns.\n",
        "\n",
        "<img src=\"https://images.seattletimes.com/wp-content/uploads/2016/06/7a753b42-29b3-11e6-9ea3-af6d509221b4.jpg?d=1560x1034\" width = \"500\"/>\n",
        "\n"
      ],
      "metadata": {
        "id": "Ishya8a3inTn"
      }
    },
    {
      "cell_type": "markdown",
      "source": [
        "# Vision Transformer Architecture Overview\n",
        "\n",
        "I'll walk through the three core segments of the Vision Transformer — **Patch Embedding**, **Transformer Encoder**, and **MLP Classification** — at a high level, without diving too deep into the technical details.\n",
        "\n",
        "<img src=\"https://framerusercontent.com/images/erw4zzdu1g2Sb0lh2oL0KhhsgDM.gif\" alt=\"ViT Diagram\" width=\"600\"/>\n",
        "\n",
        "---\n",
        "\n",
        "### **Patch Embedding**\n",
        "\n",
        "The first step in the Vision Transformer is to split the input image into fixed-size, non-overlapping **patches**. Each patch is then flattened and mapped into a vector — forming a sequence of patch embeddings in the shape of `(batch size, number of patches, embedding dimension)`.\n",
        "\n",
        "We also prepend a special **CLS token**, which will later be used for classification, and add **positional embeddings** to retain contextual information that would otherwise be lost.\n",
        "\n",
        "---\n",
        "\n",
        "### **Transformer Encoder**\n",
        "\n",
        "This is the core of the Vision Transformer. The **Transformer Encoder** processes the patch embeddings using **multi-head self-attention**, which allows the model to capture both **local and global relationships** across the image.\n",
        "\n",
        "Different attention heads focus on different regions or features, helping the model develop a deeper, richer understanding of the image as a whole.\n",
        "\n",
        "---\n",
        "\n",
        "### **MLP Head (Classification)**\n",
        "\n",
        "Finally, we pass only the **CLS token**, now containing information gathered from the entire image — through a **Multi-Layer Perceptron (MLP)** to make the final **classification**.\n",
        "\n",
        "---\n"
      ],
      "metadata": {
        "id": "9lfZwb1nQIbf"
      }
    },
    {
      "cell_type": "markdown",
      "source": [
        "# **Training Dataset**\n",
        "\n",
        "In this implementation, we use the **MNIST dataset** to train our Vision Transformer. MNIST images are grayscale and have a fixed size of **28×28**, which makes them a convenient choice for prototyping.\n",
        "\n",
        "Because the images are grayscale, each patch has only **1 channel**, which directly impacts the **embedding dimension**. If we were working with **RGB images**, this value would be **3 channels per patch**, resulting in a larger input dimension for the patch embeddings.\n",
        "\n",
        "MNIST is also commonly used in many ViT implementations due to its simplicity and low computational requirements, making it ideal for testing and experimenting with model architectures.\n",
        "\n",
        "\n",
        "<img src=\"https://datasets.activeloop.ai/wp-content/uploads/2019/12/MNIST-handwritten-digits-dataset-visualized-by-Activeloop.webp\" width=\"400\"/>\n",
        "\n",
        "*MNIST Dataset*"
      ],
      "metadata": {
        "id": "o8rMomrUQS-n"
      }
    },
    {
      "cell_type": "markdown",
      "source": [
        "# Implementation/Data Preparation"
      ],
      "metadata": {
        "id": "Zud1hicML3at"
      }
    },
    {
      "cell_type": "code",
      "execution_count": null,
      "metadata": {
        "id": "QBFT5QfQEq07"
      },
      "outputs": [],
      "source": [
        "# Import Libraries\n",
        "import torch\n",
        "import torchvision\n",
        "import matplotlib.pyplot as plt\n",
        "import torchvision.transforms as transforms\n",
        "import torch.utils.data as dataloader\n",
        "import torch.nn as nn\n",
        "import torch.nn.functional as F"
      ]
    },
    {
      "cell_type": "code",
      "source": [
        "# Transformation of PIL data into tensor format\n",
        "transform_operation = transforms.Compose([transforms.ToTensor()])"
      ],
      "metadata": {
        "id": "lT0BZgHJGSNi"
      },
      "execution_count": null,
      "outputs": []
    },
    {
      "cell_type": "code",
      "source": [
        "# Get PIL Data\n",
        "train_set = torchvision.datasets.MNIST(root='./data', train=True, download=True, transform= transform_operation )\n",
        "validation_set = torchvision.datasets.MNIST(root='./data', train=False, download=True, transform= transform_operation )"
      ],
      "metadata": {
        "colab": {
          "base_uri": "https://localhost:8080/"
        },
        "id": "p6WNgZhOFyLX",
        "outputId": "5645cab9-ba55-448f-98e1-b01d9790404c"
      },
      "execution_count": null,
      "outputs": [
        {
          "output_type": "stream",
          "name": "stderr",
          "text": [
            "100%|██████████| 9.91M/9.91M [00:01<00:00, 5.32MB/s]\n",
            "100%|██████████| 28.9k/28.9k [00:00<00:00, 155kB/s]\n",
            "100%|██████████| 1.65M/1.65M [00:01<00:00, 1.46MB/s]\n",
            "100%|██████████| 4.54k/4.54k [00:00<00:00, 8.82MB/s]\n"
          ]
        }
      ]
    },
    {
      "cell_type": "code",
      "source": [
        "# Define variables\n",
        "epochs = 5\n",
        "batch_size = 64\n",
        "classes = 10\n",
        "channels = 1\n",
        "img_size = 28\n",
        "patch_size = 7\n",
        "patch_num = (img_size // patch_size) * (img_size // patch_size)\n",
        "attention_heads = 4\n",
        "embedding_dimension = 20\n",
        "transformer_blocks = 8\n",
        "MLP_nodes = 64\n",
        "learning_rate = 0.001"
      ],
      "metadata": {
        "id": "B9c0x5XOHlT8"
      },
      "execution_count": null,
      "outputs": []
    },
    {
      "cell_type": "code",
      "source": [
        "# Prepare data for the neural network\n",
        "train_data = dataloader.DataLoader(train_set, shuffle = True, batch_size = batch_size)\n",
        "validation_data = dataloader.DataLoader(validation_set, shuffle = True, batch_size = batch_size)"
      ],
      "metadata": {
        "id": "fflFdXqTFxhm"
      },
      "execution_count": null,
      "outputs": []
    },
    {
      "cell_type": "markdown",
      "source": [
        "# **Patch Embedding**\n",
        "\n",
        "In this section, we want to compress the 2D image into a **sequence of flattened patch embeddings**. This transformation allows us to treat the image like a sequence, similar to how words are treated in NLP so that it can be processed by the Transformer.\n",
        "\n",
        "We achieve this by using a `Conv2d` layer where both the kernel size and stride are equal to the patch size. This splits the image into non-overlapping patches and projects each one into a higher-dimensional embedding space. (Shoutout to Linear Algebra)\n",
        "\n",
        "\n",
        "> **Final output shape:** `(batch_size, num_patches, embedding_dimension)`, ready to be fed into the Transformer encoder."
      ],
      "metadata": {
        "id": "1QkzyA6sPiuM"
      }
    },
    {
      "cell_type": "code",
      "source": [
        "# Patch Embedding Portion\n",
        "\n",
        "class PatchEmbedding(nn.Module):\n",
        "  def __init__(self):\n",
        "      super().__init__()\n",
        "      self.patch_embed = nn.Conv2d(channels, embedding_dimension, kernel_size = patch_size, stride = patch_size)\n",
        "\n",
        "  def forward(self,x):\n",
        "    x = self.patch_embed(x)\n",
        "    x = x.flatten(2).transpose(1,2)\n",
        "    return x"
      ],
      "metadata": {
        "id": "viKUobthJh3Y"
      },
      "execution_count": null,
      "outputs": []
    },
    {
      "cell_type": "markdown",
      "source": [
        "# Transformer Encoder\n",
        "\n",
        "This section is where the **Transformer Encoder** occurs. It consists of multiple parts:\n",
        "\n",
        "<img src=\"https://encrypted-tbn0.gstatic.com/images?q=tbn:ANd9GcSEpn1EQ1HkEvhOnU5FTjjpxf7kj_5kqejVAQ&s\" alt=\"transformer encoder\" width=\"200\"/>\n",
        "\n",
        "\n",
        "- Two layer normalization steps for stabilizing and speeding up training.\n",
        "- A multi-head attention layer that runs in parallel; you can experiment with the number of heads (I used 4 here).\n",
        "- Two residual connections to help with gradient flow and to prevent vanishing gradients.\n",
        "- A multi layer perceptron block for further feature transformation.\n",
        "- The activation function I chose is **GELU**, which provides smoother activations compared to ReLU.\n",
        "\n",
        "<img src=\"https://www.researchgate.net/publication/370116538/figure/fig3/AS:11431281358801951@1744047564756/Comparison-of-the-ReLu-and-GeLu-activation-functions-ReLu-is-simpler-to-compute-but.tif\" alt=\"relu vs gelu\" width=\"400\"/>\n",
        "\n",
        "I will be running the Transformer Encoder **in series four times**, but I have played around with the number of transformer blocks. I noticed that increasing the number of blocks generally improves performance by allowing the model to capture more complex patterns, but after a certain point, it can lead to overfitting or diminishing returns, especially on smaller datasets like MNIST.\n",
        "\n"
      ],
      "metadata": {
        "id": "x7Z37GPii9u8"
      }
    },
    {
      "cell_type": "code",
      "source": [
        "# Transformer Encoder Portion\n",
        "# Layer Normalization\n",
        "# Multi-Head Attention\n",
        "# Layer Normalization\n",
        "# Residuals\n",
        "# MLP - Activation Function (ReLu/GeLu)\n",
        "\n",
        "class TransformerEncoder(nn.Module):\n",
        "  def __init__(self):\n",
        "    super().__init__()\n",
        "    self.layer_norm1 = nn.LayerNorm(embedding_dimension)\n",
        "    self.multi_head_attention = nn.MultiheadAttention(embedding_dimension, attention_heads, batch_first=True)\n",
        "    self.layer_norm2 = nn.LayerNorm(embedding_dimension)\n",
        "    self.MLP = nn.Sequential(nn.Linear(embedding_dimension, MLP_nodes), nn.GELU(), nn.Linear(MLP_nodes, embedding_dimension))\n",
        "\n",
        "  def forward(self,x):\n",
        "    residual1 = x\n",
        "    x = self.layer_norm1(x)\n",
        "    x = self.multi_head_attention(x,x,x)[0] + residual1\n",
        "    residual2 = x\n",
        "    x = self.layer_norm2(x)\n",
        "    x = self.MLP(x) + residual2\n",
        "    return x\n"
      ],
      "metadata": {
        "id": "Ey6Mf3-wJhoL"
      },
      "execution_count": null,
      "outputs": []
    },
    {
      "cell_type": "markdown",
      "source": [
        "# MLP Head"
      ],
      "metadata": {
        "id": "0XRCKcZzPrJq"
      }
    },
    {
      "cell_type": "code",
      "source": [
        "# MLP Head for Classification\n",
        "class MLP_Head(nn.Module):\n",
        "  def __init__(self):\n",
        "    super().__init__()\n",
        "    # Classifier, normalize to prevent overfitting\n",
        "    self.mlp_head = nn.Sequential(nn.LayerNorm(embedding_dimension),nn.Linear(embedding_dimension,classes))\n",
        "\n",
        "  def forward(self,x):\n",
        "    return self.mlp_head(x)"
      ],
      "metadata": {
        "id": "F-YH9T1YJ9se"
      },
      "execution_count": null,
      "outputs": []
    },
    {
      "cell_type": "markdown",
      "source": [
        "# Vision Transformer"
      ],
      "metadata": {
        "id": "JmHKKaVZPuho"
      }
    },
    {
      "cell_type": "code",
      "source": [
        "class VisionTransformer(nn.Module):\n",
        "  def __init__(self):\n",
        "    super().__init__()\n",
        "    self.patch_embedding = PatchEmbedding()\n",
        "    self.CLS_token = nn.Parameter(torch.randn(1,1,embedding_dimension))\n",
        "    self.position_embedding = nn.Parameter(torch.randn(1,patch_num+1,embedding_dimension))\n",
        "    self.transformer_blocks = nn.Sequential(*[TransformerEncoder() for _ in range(transformer_blocks)]) # ADDING TRANSFORMER BLOCKS IN SERIES\n",
        "    self.MLP_head = MLP_Head()\n",
        "\n",
        "  def forward(self,x):\n",
        "    x = self.patch_embedding(x)\n",
        "    batch_size = x.size(0)\n",
        "    CLS_tokens = self.CLS_token.expand(batch_size,-1,-1)\n",
        "\n",
        "    # Append CLS token and position embedding\n",
        "    x = torch.cat((CLS_tokens,x),dim=1)\n",
        "    x = x + self.position_embedding\n",
        "    x = self.transformer_blocks(x)\n",
        "\n",
        "    # Parse CLS token for classification\n",
        "    x = x[:,0]\n",
        "\n",
        "    x = self.MLP_head(x)\n",
        "    return x"
      ],
      "metadata": {
        "id": "RlwN37ORTv0p"
      },
      "execution_count": null,
      "outputs": []
    },
    {
      "cell_type": "markdown",
      "source": [
        "# **Training the ViT**\n",
        "\n",
        "This section is the training loop for the Vision Transformer model using the MNIST dataset. It includes model initialization, loss function and optimizer setup, and trains the model over multiple epochs while tracking both loss and accuracy. I also experimented with different learning rates and epoch values to observe their impact on performance.\n",
        "\n"
      ],
      "metadata": {
        "id": "SuRcs7n0Pw-o"
      }
    },
    {
      "cell_type": "code",
      "source": [
        "# Device\n",
        "device = torch.device('cuda' if torch.cuda.is_available() else 'cpu')\n",
        "model = VisionTransformer().to(device)\n",
        "\n",
        "# Optimizer - Adam\n",
        "optimizer = torch.optim.Adam(model.parameters(), lr = learning_rate)\n",
        "\n",
        "# CrossEntropy\n",
        "criterion = nn.CrossEntropyLoss()"
      ],
      "metadata": {
        "id": "449La-5-WS_G"
      },
      "execution_count": null,
      "outputs": []
    },
    {
      "cell_type": "code",
      "source": [
        "for epoch in range(epochs):\n",
        "    model.train()\n",
        "    total_loss = 0\n",
        "    correct_epoch = 0\n",
        "    total_epoch = 0\n",
        "\n",
        "    print(f\"\\nEpoch {epoch+1}/{epochs}\")\n",
        "\n",
        "    for batch_idx, (images, labels) in enumerate(train_data):\n",
        "        images = images.to(device)\n",
        "        labels = labels.to(device)\n",
        "\n",
        "        optimizer.zero_grad()\n",
        "        outputs = model(images)\n",
        "        loss = criterion(outputs, labels)\n",
        "        loss.backward()\n",
        "        optimizer.step()\n",
        "\n",
        "        total_loss += loss.item()\n",
        "        preds = outputs.argmax(dim=1)\n",
        "        correct = (preds == labels).sum().item()\n",
        "\n",
        "        correct_epoch += correct\n",
        "        total_epoch += labels.size(0)\n",
        "\n",
        "        if batch_idx % 100 == 0:\n",
        "            batch_acc = 100.0 * correct / labels.size(0)\n",
        "            print(f\"  Batch {batch_idx}: Loss = {loss.item():.4f}, Accuracy = {batch_acc:.2f}%\")\n",
        "\n",
        "    epoch_acc = 100.0 * correct_epoch / total_epoch\n",
        "    avg_loss = total_loss / len(train_data)\n",
        "\n",
        "    print(f\"==> Epoch {epoch+1} Summary: Avg Loss = {avg_loss:.4f}, Accuracy = {epoch_acc:.2f}%\")"
      ],
      "metadata": {
        "colab": {
          "base_uri": "https://localhost:8080/"
        },
        "id": "5guNYk-6Ya0n",
        "outputId": "cc9b8482-79f8-46eb-b5c2-b5581b0d2e73"
      },
      "execution_count": null,
      "outputs": [
        {
          "output_type": "stream",
          "name": "stdout",
          "text": [
            "\n",
            "Epoch 1/5\n",
            "  Batch 0: Loss = 2.3733, Accuracy = 7.81%\n",
            "  Batch 100: Loss = 1.2406, Accuracy = 62.50%\n",
            "  Batch 200: Loss = 0.6894, Accuracy = 84.38%\n",
            "  Batch 300: Loss = 0.2949, Accuracy = 93.75%\n",
            "  Batch 400: Loss = 0.2658, Accuracy = 95.31%\n",
            "  Batch 500: Loss = 0.4122, Accuracy = 85.94%\n",
            "  Batch 600: Loss = 0.3167, Accuracy = 90.62%\n",
            "  Batch 700: Loss = 0.1157, Accuracy = 96.88%\n",
            "  Batch 800: Loss = 0.2805, Accuracy = 90.62%\n",
            "  Batch 900: Loss = 0.1520, Accuracy = 95.31%\n",
            "==> Epoch 1 Summary: Avg Loss = 0.5763, Accuracy = 81.83%\n",
            "\n",
            "Epoch 2/5\n",
            "  Batch 0: Loss = 0.2107, Accuracy = 95.31%\n",
            "  Batch 100: Loss = 0.2315, Accuracy = 93.75%\n",
            "  Batch 200: Loss = 0.2402, Accuracy = 93.75%\n",
            "  Batch 300: Loss = 0.1810, Accuracy = 93.75%\n",
            "  Batch 400: Loss = 0.0781, Accuracy = 96.88%\n",
            "  Batch 500: Loss = 0.1552, Accuracy = 95.31%\n",
            "  Batch 600: Loss = 0.0639, Accuracy = 98.44%\n",
            "  Batch 700: Loss = 0.1615, Accuracy = 96.88%\n",
            "  Batch 800: Loss = 0.1007, Accuracy = 98.44%\n",
            "  Batch 900: Loss = 0.1470, Accuracy = 95.31%\n",
            "==> Epoch 2 Summary: Avg Loss = 0.1700, Accuracy = 94.93%\n",
            "\n",
            "Epoch 3/5\n",
            "  Batch 0: Loss = 0.0359, Accuracy = 100.00%\n",
            "  Batch 100: Loss = 0.1791, Accuracy = 92.19%\n",
            "  Batch 200: Loss = 0.0741, Accuracy = 98.44%\n",
            "  Batch 300: Loss = 0.1583, Accuracy = 95.31%\n",
            "  Batch 400: Loss = 0.1125, Accuracy = 96.88%\n",
            "  Batch 500: Loss = 0.1916, Accuracy = 96.88%\n",
            "  Batch 600: Loss = 0.0400, Accuracy = 100.00%\n",
            "  Batch 700: Loss = 0.0251, Accuracy = 100.00%\n",
            "  Batch 800: Loss = 0.0725, Accuracy = 98.44%\n",
            "  Batch 900: Loss = 0.1771, Accuracy = 93.75%\n",
            "==> Epoch 3 Summary: Avg Loss = 0.1218, Accuracy = 96.31%\n",
            "\n",
            "Epoch 4/5\n",
            "  Batch 0: Loss = 0.1038, Accuracy = 95.31%\n",
            "  Batch 100: Loss = 0.1062, Accuracy = 96.88%\n",
            "  Batch 200: Loss = 0.1955, Accuracy = 93.75%\n",
            "  Batch 300: Loss = 0.0924, Accuracy = 96.88%\n",
            "  Batch 400: Loss = 0.0356, Accuracy = 98.44%\n",
            "  Batch 500: Loss = 0.0851, Accuracy = 98.44%\n",
            "  Batch 600: Loss = 0.0751, Accuracy = 98.44%\n",
            "  Batch 700: Loss = 0.1817, Accuracy = 92.19%\n",
            "  Batch 800: Loss = 0.1831, Accuracy = 92.19%\n",
            "  Batch 900: Loss = 0.0820, Accuracy = 96.88%\n",
            "==> Epoch 4 Summary: Avg Loss = 0.0999, Accuracy = 96.94%\n",
            "\n",
            "Epoch 5/5\n",
            "  Batch 0: Loss = 0.0802, Accuracy = 98.44%\n",
            "  Batch 100: Loss = 0.0233, Accuracy = 100.00%\n",
            "  Batch 200: Loss = 0.1510, Accuracy = 95.31%\n",
            "  Batch 300: Loss = 0.0172, Accuracy = 100.00%\n",
            "  Batch 400: Loss = 0.0778, Accuracy = 98.44%\n",
            "  Batch 500: Loss = 0.1217, Accuracy = 93.75%\n",
            "  Batch 600: Loss = 0.1156, Accuracy = 95.31%\n",
            "  Batch 700: Loss = 0.0268, Accuracy = 100.00%\n",
            "  Batch 800: Loss = 0.0890, Accuracy = 96.88%\n",
            "  Batch 900: Loss = 0.0265, Accuracy = 100.00%\n",
            "==> Epoch 5 Summary: Avg Loss = 0.0849, Accuracy = 97.41%\n"
          ]
        }
      ]
    },
    {
      "cell_type": "code",
      "source": [
        "def mnist_predictions(model, dataloader, device, num_images=20, rows=4, cols=5):\n",
        "    model.eval()\n",
        "    images, labels = next(iter(dataloader))\n",
        "    images, labels = images.to(device), labels.to(device)\n",
        "\n",
        "    with torch.no_grad():\n",
        "        outputs = model(images)\n",
        "        preds = outputs.argmax(dim=1)\n",
        "\n",
        "    plt.figure(figsize=(cols * 2.5, rows * 2.5))\n",
        "    for i in range(num_images):\n",
        "        plt.subplot(rows, cols, i + 1)\n",
        "        plt.imshow(images[i].squeeze().cpu(), cmap='gray')\n",
        "        plt.title(f\"Pred: {preds[i].item()}\\nTrue: {labels[i].item()}\")\n",
        "        plt.axis('off')\n",
        "    plt.tight_layout()\n",
        "    plt.show()\n",
        "\n",
        "mnist_predictions(model, validation_data, device)"
      ],
      "metadata": {
        "colab": {
          "base_uri": "https://localhost:8080/",
          "height": 1000
        },
        "id": "oT4sd_tOlF9d",
        "outputId": "6ebbb318-f47e-4a2c-b094-609d57f05dfe"
      },
      "execution_count": null,
      "outputs": [
        {
          "output_type": "display_data",
          "data": {
            "text/plain": [
              "<Figure size 1250x1000 with 20 Axes>"
            ],
            "image/png": "[encoded data removed]"
          },
          "metadata": {}
        }
      ]
    },
    {
      "cell_type": "markdown",
      "source": [
        "## **Citations**\n",
        "**[1]** Deng, L. (2012). *The MNIST database of handwritten digit images for machine learning research*. IEEE Signal Processing Magazine, 29(6), 141–142.\n",
        "\n",
        "**[2]** Dosovitskiy, A., Beyer, L., Kolesnikov, A., Weissenborn, D., Zhai, X., Unterthiner, T., Dehghani, M., Minderer, M., Heigold, G., Gelly, S., Uszkoreit, J., & Houlsby, N. (2020). *An image is worth 16x16 words: Transformers for image recognition at scale*. arXiv. https://arxiv.org/abs/2010.11929\n",
        "\n",
        "**[3]** Roboflow Blog. (2025, April 17). *Vision Transformers explained: The future of computer vision?* https://blog.roboflow.com/vision-transformers/\n",
        "\n",
        "**[4]** V7 Labs. (n.d.). *Vision Transformer: What it is & how it works [2024 guide]*. https://www.v7labs.com/blog/vision-transformer-guide\n",
        "\n",
        "**[5]**Vizuara. (2022, June 25). Coding a Vision Transformer from scratch using PyTorch [Video]. YouTube. https://www.youtube.com/watch?v=DdsVwTodycw"
      ],
      "metadata": {
        "id": "wYs-704lOHU3"
      }
    }
  ]
}